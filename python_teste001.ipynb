{
  "nbformat": 4,
  "nbformat_minor": 0,
  "metadata": {
    "colab": {
      "name": "python_teste001",
      "provenance": [],
      "collapsed_sections": [],
      "toc_visible": true,
      "authorship_tag": "ABX9TyOgngRKYywnoXxW5m3YcssI",
      "include_colab_link": true
    },
    "kernelspec": {
      "name": "python3",
      "display_name": "Python 3"
    },
    "language_info": {
      "name": "python"
    }
  },
  "cells": [
    {
      "cell_type": "markdown",
      "metadata": {
        "id": "view-in-github",
        "colab_type": "text"
      },
      "source": [
        "<a href=\"https://colab.research.google.com/github/WelisonViana/Aprendendo_Python/blob/main/python_teste001.ipynb\" target=\"_parent\"><img src=\"https://colab.research.google.com/assets/colab-badge.svg\" alt=\"Open In Colab\"/></a>"
      ]
    },
    {
      "cell_type": "markdown",
      "metadata": {
        "id": "NyTvdVtUz802"
      },
      "source": [
        "# Aula 006"
      ]
    },
    {
      "cell_type": "markdown",
      "metadata": {
        "id": "sIN3COVlsw-8"
      },
      "source": [
        "**Aula** oo6\n",
        "\n",
        "Tipos primitivos\n"
      ]
    },
    {
      "cell_type": "code",
      "metadata": {
        "colab": {
          "base_uri": "https://localhost:8080/"
        },
        "id": "_HzRmOM1pLx8",
        "outputId": "00266047-608d-48ed-b20e-e5d76ab4f5ae"
      },
      "source": [
        "n1 = int(input('Digite o primeiro número: '))\n",
        "n2 = int(input('Digite o segundo número: '))\n",
        "s = n1 + n2\n",
        "#print('A soma entre',n1, 'e', n2,'vale', s)\n",
        "print('A soma entre {} e {} vale {}'.format(n1, n2, s))"
      ],
      "execution_count": null,
      "outputs": [
        {
          "output_type": "stream",
          "text": [
            "Digite o primeiro número: 3\n",
            "Digite o segundo número: 4\n",
            "A soma entre 3 e 4 vale 7\n"
          ],
          "name": "stdout"
        }
      ]
    },
    {
      "cell_type": "code",
      "metadata": {
        "colab": {
          "base_uri": "https://localhost:8080/"
        },
        "id": "Z9hvjspAs_9G",
        "outputId": "e09fb1ad-5583-4155-a993-f85fbc94bcb2"
      },
      "source": [
        "n = float(input('Digite um valor: '))\n",
        "print('O valor digitado é: {}'.format(n))\n",
        "print('{} é um valor do tipo '.format(n), type(n))"
      ],
      "execution_count": null,
      "outputs": [
        {
          "output_type": "stream",
          "text": [
            "Digite um valor: 4\n",
            "O valor digitado é: 4.0\n",
            "4.0 é um valor do tipo  <class 'float'>\n"
          ],
          "name": "stdout"
        }
      ]
    },
    {
      "cell_type": "code",
      "metadata": {
        "colab": {
          "base_uri": "https://localhost:8080/"
        },
        "id": "1Ui9I36vvVDG",
        "outputId": "4461d34c-1858-4a45-f021-e14d2721d7f5"
      },
      "source": [
        "\n",
        "f = input('Digite algo: ')\n",
        "print(f.isalnum())\n",
        "# is.alpha\n",
        "# is.num , is.alnum, is.upper, is.lower"
      ],
      "execution_count": null,
      "outputs": [
        {
          "output_type": "stream",
          "text": [
            "Digite algo: jjj6\n",
            "True\n"
          ],
          "name": "stdout"
        }
      ]
    },
    {
      "cell_type": "markdown",
      "metadata": {
        "id": "XnCg3nvHzmYM"
      },
      "source": [
        "# Aula 007"
      ]
    },
    {
      "cell_type": "markdown",
      "metadata": {
        "id": "FBdjAwpvsiua"
      },
      "source": [
        "**Aula** 007\n",
        "\n",
        "Operadores Aritméticos"
      ]
    },
    {
      "cell_type": "code",
      "metadata": {
        "colab": {
          "base_uri": "https://localhost:8080/"
        },
        "id": "GiAByMCxp8Vj",
        "outputId": "7faaeda9-5244-4e20-d239-8c7430f9b881"
      },
      "source": [
        "pow(4,3)\n",
        "#potência"
      ],
      "execution_count": null,
      "outputs": [
        {
          "output_type": "execute_result",
          "data": {
            "text/plain": [
              "64"
            ]
          },
          "metadata": {
            "tags": []
          },
          "execution_count": 7
        }
      ]
    },
    {
      "cell_type": "code",
      "metadata": {
        "colab": {
          "base_uri": "https://localhost:8080/"
        },
        "id": "YYc1jHQtrybv",
        "outputId": "e94135ea-1d60-4c38-e1f5-5d8b8d9c1f7f"
      },
      "source": [
        "19//2\n",
        "#parte inteira da divisão"
      ],
      "execution_count": null,
      "outputs": [
        {
          "output_type": "execute_result",
          "data": {
            "text/plain": [
              "9"
            ]
          },
          "metadata": {
            "tags": []
          },
          "execution_count": 8
        }
      ]
    },
    {
      "cell_type": "code",
      "metadata": {
        "colab": {
          "base_uri": "https://localhost:8080/"
        },
        "id": "Y4QqllgWr-k7",
        "outputId": "024e54aa-3d54-45d4-cf3b-e117dd10717f"
      },
      "source": [
        "19%2\n",
        "#resto da divisão"
      ],
      "execution_count": null,
      "outputs": [
        {
          "output_type": "execute_result",
          "data": {
            "text/plain": [
              "1"
            ]
          },
          "metadata": {
            "tags": []
          },
          "execution_count": 9
        }
      ]
    },
    {
      "cell_type": "code",
      "metadata": {
        "colab": {
          "base_uri": "https://localhost:8080/"
        },
        "id": "M7MzDK4Er-TM",
        "outputId": "57fce4fb-fd30-4f4e-faee-2a579b0738f7"
      },
      "source": [
        "\n",
        "print('Olá'*3)"
      ],
      "execution_count": null,
      "outputs": [
        {
          "output_type": "stream",
          "text": [
            "OláOláOlá\n"
          ],
          "name": "stdout"
        }
      ]
    },
    {
      "cell_type": "code",
      "metadata": {
        "colab": {
          "base_uri": "https://localhost:8080/"
        },
        "id": "QaZFFDOGtMBW",
        "outputId": "a963ec9e-9fa0-4dd0-fa11-740ae1e12839"
      },
      "source": [
        "nome = input('Qual é o seu nome? ')\n",
        "print('Prazer em te conhecer {:^20}'.format(nome))\n",
        "print('{:<20}'.format(nome))\n",
        "print('{:>20}'.format(nome))\n",
        "#OBS: utilizar o formato acima para formatar os prints: <>^ alinhar a esquerda, alinhar a direita e centralizar."
      ],
      "execution_count": null,
      "outputs": [
        {
          "output_type": "stream",
          "text": [
            "Qual é o seu nome? Welison\n",
            "Prazer em te conhecer       Welison       \n",
            "Welison             \n",
            "             Welison\n"
          ],
          "name": "stdout"
        }
      ]
    },
    {
      "cell_type": "code",
      "metadata": {
        "colab": {
          "base_uri": "https://localhost:8080/"
        },
        "id": "w_UPJ_nlve41",
        "outputId": "494aae70-5d07-4718-c219-a87cba9124f7"
      },
      "source": [
        "n1 = int(input('Um valor: '))\n",
        "n2 = int(input('Outro valor: '))\n",
        "s = n1 + n2\n",
        "m = n1 * n2\n",
        "d = n1 / n2\n",
        "di = n1 // n2\n",
        "e = n1 ** n2\n",
        "print('A soma é {}, a multiplicação é {}, a divisão é {:.3f}'.format(s, m, d), end=' ')\n",
        "print('A divisão inteira é {}, \\n a exponenciação é {}'.format(di, e))\n",
        "# OBS: .3f para dizar quantos números após a virgula / end='' para que os prints saiam na mesma linha.\n",
        "# OBS: \\-n para o print sair na outra linha"
      ],
      "execution_count": null,
      "outputs": [
        {
          "output_type": "stream",
          "text": [
            "Um valor: 3\n",
            "Outro valor: 3\n",
            "A soma é 6, a multiplicação é 9, a divisão é 1.000 A divisão inteira é 1, \n",
            " a exponenciação é 27\n"
          ],
          "name": "stdout"
        }
      ]
    },
    {
      "cell_type": "markdown",
      "metadata": {
        "id": "Vq6VbnPMzbfw"
      },
      "source": [
        "# Aula 008\n",
        "\n",
        "Utilizando Módulos"
      ]
    },
    {
      "cell_type": "code",
      "metadata": {
        "id": "DztMUSVT0faW",
        "colab": {
          "base_uri": "https://localhost:8080/"
        },
        "outputId": "38a31d8d-cf2a-4baa-f8d6-2aaa9ae7c2a7"
      },
      "source": [
        "from math import sqrt, floor\n",
        "num = int(input('Digite um Numero: '))\n",
        "raiz = math.sqrt(num)\n",
        "print('A raiz de {:.2f} é {:.2f}'.format(num, floor(raiz)))\n",
        "#OBS: Dois tipos de importação de bibliotecas 1- Usando o import + nome da biblioteca ou from 'nome da biblioteca' import 'função/método'\n",
        "#EX :import math; from math import sqrt\n",
        "#OBS: floor é arredondamento para baixo."
      ],
      "execution_count": null,
      "outputs": [
        {
          "output_type": "stream",
          "text": [
            "Digite um Numero: 50\n",
            "A raiz de 50.00 é 7.00\n"
          ],
          "name": "stdout"
        }
      ]
    },
    {
      "cell_type": "code",
      "metadata": {
        "colab": {
          "base_uri": "https://localhost:8080/"
        },
        "id": "LFsF5adA6ToZ",
        "outputId": "d065fc3d-0c75-4e23-9c83-0dd9547bbb9c"
      },
      "source": [
        "import random as rd\n",
        "num = rd.randint(1,10)\n",
        "print(num)\n",
        "\n",
        "#OBS: O atalho Ctrl + spce mostra todas as bibliotecas já disponíveis para serem importadas, além disso, também pode mostrar os métodos.\n"
      ],
      "execution_count": null,
      "outputs": [
        {
          "output_type": "stream",
          "text": [
            "4\n"
          ],
          "name": "stdout"
        }
      ]
    },
    {
      "cell_type": "code",
      "metadata": {
        "colab": {
          "base_uri": "https://localhost:8080/"
        },
        "id": "gI0FlnXeeIzp",
        "outputId": "4ec6a572-3f99-4f0f-a6e1-5e522a8e3145"
      },
      "source": [
        "pip install emoji"
      ],
      "execution_count": null,
      "outputs": [
        {
          "output_type": "stream",
          "text": [
            "Collecting emoji\n",
            "  Downloading emoji-1.4.1.tar.gz (185 kB)\n",
            "\u001b[?25l\r\u001b[K     |█▊                              | 10 kB 21.0 MB/s eta 0:00:01\r\u001b[K     |███▌                            | 20 kB 24.0 MB/s eta 0:00:01\r\u001b[K     |█████▎                          | 30 kB 28.4 MB/s eta 0:00:01\r\u001b[K     |███████                         | 40 kB 32.2 MB/s eta 0:00:01\r\u001b[K     |████████▉                       | 51 kB 27.1 MB/s eta 0:00:01\r\u001b[K     |██████████▋                     | 61 kB 22.8 MB/s eta 0:00:01\r\u001b[K     |████████████▍                   | 71 kB 23.3 MB/s eta 0:00:01\r\u001b[K     |██████████████▏                 | 81 kB 22.3 MB/s eta 0:00:01\r\u001b[K     |████████████████                | 92 kB 23.8 MB/s eta 0:00:01\r\u001b[K     |█████████████████▊              | 102 kB 24.7 MB/s eta 0:00:01\r\u001b[K     |███████████████████▌            | 112 kB 24.7 MB/s eta 0:00:01\r\u001b[K     |█████████████████████▎          | 122 kB 24.7 MB/s eta 0:00:01\r\u001b[K     |███████████████████████         | 133 kB 24.7 MB/s eta 0:00:01\r\u001b[K     |████████████████████████▉       | 143 kB 24.7 MB/s eta 0:00:01\r\u001b[K     |██████████████████████████▌     | 153 kB 24.7 MB/s eta 0:00:01\r\u001b[K     |████████████████████████████▎   | 163 kB 24.7 MB/s eta 0:00:01\r\u001b[K     |██████████████████████████████  | 174 kB 24.7 MB/s eta 0:00:01\r\u001b[K     |███████████████████████████████▉| 184 kB 24.7 MB/s eta 0:00:01\r\u001b[K     |████████████████████████████████| 185 kB 24.7 MB/s \n",
            "\u001b[?25hBuilding wheels for collected packages: emoji\n",
            "  Building wheel for emoji (setup.py) ... \u001b[?25l\u001b[?25hdone\n",
            "  Created wheel for emoji: filename=emoji-1.4.1-py3-none-any.whl size=186393 sha256=e98dab71555d1f86a93a6e638cc3bd81e227257a9fbf21a441cf8bb3c305a041\n",
            "  Stored in directory: /root/.cache/pip/wheels/8e/68/ac/537456a5331f1405779f2b3c2a578429d2f6d7419e440330d8\n",
            "Successfully built emoji\n",
            "Installing collected packages: emoji\n",
            "Successfully installed emoji-1.4.1\n"
          ],
          "name": "stdout"
        }
      ]
    },
    {
      "cell_type": "code",
      "metadata": {
        "id": "03w_YpcmK62x",
        "colab": {
          "base_uri": "https://localhost:8080/"
        },
        "outputId": "6bab50de-672e-4a12-fc6a-59ab6c386b57"
      },
      "source": [
        "import emoji\n",
        "print(emoji.emojize('Python is :thumbsup:', use_aliases=True))"
      ],
      "execution_count": null,
      "outputs": [
        {
          "output_type": "stream",
          "text": [
            "Python is 👍\n"
          ],
          "name": "stdout"
        }
      ]
    },
    {
      "cell_type": "markdown",
      "metadata": {
        "id": "kgZNgP79FhXZ"
      },
      "source": [
        "# Aula 009\n",
        "Manipulando Texto"
      ]
    },
    {
      "cell_type": "code",
      "metadata": {
        "colab": {
          "base_uri": "https://localhost:8080/"
        },
        "id": "-ffX8q_wFuZg",
        "outputId": "1aa67319-d480-4c9f-caa0-54e4204b0324"
      },
      "source": [
        "frase = 'curso em vídeo python'\n",
        "print(frase.count('o'))\n",
        "print(len(frase)) #Mosta quantos caracteres existem na variável.\n",
        "print(frase.replace('python','android'))\n",
        "dividido = frase.split()\n",
        "print(dividido[0])\n",
        "#len(), count(), find(), title(), strip(), join(), replace(), upper(), lower(), capitalize(),"
      ],
      "execution_count": null,
      "outputs": [
        {
          "output_type": "stream",
          "text": [
            "3\n",
            "21\n",
            "curso em vídeo android\n",
            "curso\n"
          ],
          "name": "stdout"
        }
      ]
    },
    {
      "cell_type": "markdown",
      "metadata": {
        "id": "_KUtJv1R7F9B"
      },
      "source": [
        "# Exercícios"
      ]
    },
    {
      "cell_type": "code",
      "metadata": {
        "colab": {
          "base_uri": "https://localhost:8080/"
        },
        "id": "ojraGsQW7gqq",
        "outputId": "713bc081-6cca-43d3-875f-f11ef3b5c2fc"
      },
      "source": [
        "nome = input('Qual é o seu nome? ')\n",
        "print('É um prazer te conhecer {}'.format(nome))\n"
      ],
      "execution_count": null,
      "outputs": [
        {
          "output_type": "stream",
          "text": [
            "Qual é o seu nome? Welison\n",
            "É um prazer te conhecer Welison\n"
          ],
          "name": "stdout"
        }
      ]
    },
    {
      "cell_type": "code",
      "metadata": {
        "colab": {
          "base_uri": "https://localhost:8080/"
        },
        "id": "kz3yM5mR9BdR",
        "outputId": "be78bf23-805d-4320-e965-04e95ad2e971"
      },
      "source": [
        "algo = input('Digite algo: ')\n",
        "if algo.isnumeric() == True:\n",
        "  print('É numérico')\n",
        "elif algo.isalpha() == True:\n",
        "  print('É alfabético')\n",
        "elif algo.isspace() ==True:\n",
        "  print('É espaço')\n",
        "else: print('Não sei o que é')"
      ],
      "execution_count": null,
      "outputs": [
        {
          "output_type": "stream",
          "text": [
            "Digite algo: ###\n",
            "Não sei o que é\n"
          ],
          "name": "stdout"
        }
      ]
    },
    {
      "cell_type": "code",
      "metadata": {
        "colab": {
          "base_uri": "https://localhost:8080/"
        },
        "id": "27N6befkBVEy",
        "outputId": "43f533e8-fe82-4704-8497-ca3e2e34efd3"
      },
      "source": [
        "valor = float(input('Digite valor: '))\n",
        "valor_centi = valor * 100\n",
        "valor_deci = valor * 10\n",
        "print('{:^5.4f} m é igual á:\\n{:^5.2f} cm\\n{:^5.2f}dm'.format(valor, valor_centi, valor_deci))"
      ],
      "execution_count": null,
      "outputs": [
        {
          "output_type": "stream",
          "text": [
            "Digite valor: 0.3345\n",
            "0.3345 m é igual á:\n",
            "33.45 cm\n",
            "3.35 dm\n"
          ],
          "name": "stdout"
        }
      ]
    },
    {
      "cell_type": "code",
      "metadata": {
        "colab": {
          "base_uri": "https://localhost:8080/"
        },
        "id": "iA6vyuUxRrnV",
        "outputId": "61ef70d9-a9ab-4bf2-aecd-7e7044bc33c8"
      },
      "source": [
        "city = str(input('Em que cidde você nasceu? ')).strip()\n",
        "print(city[:5].lower() == 'santo')\n",
        "\n",
        "# .strip tira os espaços"
      ],
      "execution_count": null,
      "outputs": [
        {
          "output_type": "stream",
          "text": [
            "Em que cidde você nasceu?   sAnto Luis\n",
            "True\n"
          ],
          "name": "stdout"
        }
      ]
    }
  ]
}