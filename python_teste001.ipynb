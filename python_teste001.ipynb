{
  "nbformat": 4,
  "nbformat_minor": 0,
  "metadata": {
    "colab": {
      "name": "python_teste001",
      "provenance": [],
      "collapsed_sections": [],
      "toc_visible": true,
      "authorship_tag": "ABX9TyOWDmPTj7tP3wWRnAZIb6ib",
      "include_colab_link": true
    },
    "kernelspec": {
      "name": "python3",
      "display_name": "Python 3"
    },
    "language_info": {
      "name": "python"
    }
  },
  "cells": [
    {
      "cell_type": "markdown",
      "metadata": {
        "id": "view-in-github",
        "colab_type": "text"
      },
      "source": [
        "<a href=\"https://colab.research.google.com/github/WelisonViana/Aprendendo_Python/blob/main/python_teste001.ipynb\" target=\"_parent\"><img src=\"https://colab.research.google.com/assets/colab-badge.svg\" alt=\"Open In Colab\"/></a>"
      ]
    },
    {
      "cell_type": "markdown",
      "metadata": {
        "id": "NyTvdVtUz802"
      },
      "source": [
        "# Aula 006"
      ]
    },
    {
      "cell_type": "markdown",
      "metadata": {
        "id": "sIN3COVlsw-8"
      },
      "source": [
        "**Aula** oo6\n",
        "\n",
        "Tipos primitivos\n"
      ]
    },
    {
      "cell_type": "code",
      "metadata": {
        "colab": {
          "base_uri": "https://localhost:8080/"
        },
        "id": "_HzRmOM1pLx8",
        "outputId": "00266047-608d-48ed-b20e-e5d76ab4f5ae"
      },
      "source": [
        "n1 = int(input('Digite o primeiro número: '))\n",
        "n2 = int(input('Digite o segundo número: '))\n",
        "s = n1 + n2\n",
        "#print('A soma entre',n1, 'e', n2,'vale', s)\n",
        "print('A soma entre {} e {} vale {}'.format(n1, n2, s))"
      ],
      "execution_count": null,
      "outputs": [
        {
          "output_type": "stream",
          "text": [
            "Digite o primeiro número: 3\n",
            "Digite o segundo número: 4\n",
            "A soma entre 3 e 4 vale 7\n"
          ],
          "name": "stdout"
        }
      ]
    },
    {
      "cell_type": "code",
      "metadata": {
        "colab": {
          "base_uri": "https://localhost:8080/"
        },
        "id": "Z9hvjspAs_9G",
        "outputId": "e09fb1ad-5583-4155-a993-f85fbc94bcb2"
      },
      "source": [
        "n = float(input('Digite um valor: '))\n",
        "print('O valor digitado é: {}'.format(n))\n",
        "print('{} é um valor do tipo '.format(n), type(n))"
      ],
      "execution_count": null,
      "outputs": [
        {
          "output_type": "stream",
          "text": [
            "Digite um valor: 4\n",
            "O valor digitado é: 4.0\n",
            "4.0 é um valor do tipo  <class 'float'>\n"
          ],
          "name": "stdout"
        }
      ]
    },
    {
      "cell_type": "code",
      "metadata": {
        "colab": {
          "base_uri": "https://localhost:8080/"
        },
        "id": "1Ui9I36vvVDG",
        "outputId": "4461d34c-1858-4a45-f021-e14d2721d7f5"
      },
      "source": [
        "\n",
        "f = input('Digite algo: ')\n",
        "print(f.isalnum())\n",
        "# is.alpha\n",
        "# is.num , is.alnum, is.upper, is.lower"
      ],
      "execution_count": null,
      "outputs": [
        {
          "output_type": "stream",
          "text": [
            "Digite algo: jjj6\n",
            "True\n"
          ],
          "name": "stdout"
        }
      ]
    },
    {
      "cell_type": "markdown",
      "metadata": {
        "id": "XnCg3nvHzmYM"
      },
      "source": [
        "# Aula 007"
      ]
    },
    {
      "cell_type": "markdown",
      "metadata": {
        "id": "FBdjAwpvsiua"
      },
      "source": [
        "**Aula** 007\n",
        "\n",
        "Operadores Aritméticos"
      ]
    },
    {
      "cell_type": "code",
      "metadata": {
        "colab": {
          "base_uri": "https://localhost:8080/"
        },
        "id": "GiAByMCxp8Vj",
        "outputId": "7faaeda9-5244-4e20-d239-8c7430f9b881"
      },
      "source": [
        "pow(4,3)\n",
        "#potência"
      ],
      "execution_count": null,
      "outputs": [
        {
          "output_type": "execute_result",
          "data": {
            "text/plain": [
              "64"
            ]
          },
          "metadata": {
            "tags": []
          },
          "execution_count": 7
        }
      ]
    },
    {
      "cell_type": "code",
      "metadata": {
        "colab": {
          "base_uri": "https://localhost:8080/"
        },
        "id": "YYc1jHQtrybv",
        "outputId": "e94135ea-1d60-4c38-e1f5-5d8b8d9c1f7f"
      },
      "source": [
        "19//2\n",
        "#parte inteira da divisão"
      ],
      "execution_count": null,
      "outputs": [
        {
          "output_type": "execute_result",
          "data": {
            "text/plain": [
              "9"
            ]
          },
          "metadata": {
            "tags": []
          },
          "execution_count": 8
        }
      ]
    },
    {
      "cell_type": "code",
      "metadata": {
        "colab": {
          "base_uri": "https://localhost:8080/"
        },
        "id": "Y4QqllgWr-k7",
        "outputId": "024e54aa-3d54-45d4-cf3b-e117dd10717f"
      },
      "source": [
        "19%2\n",
        "#resto da divisão"
      ],
      "execution_count": null,
      "outputs": [
        {
          "output_type": "execute_result",
          "data": {
            "text/plain": [
              "1"
            ]
          },
          "metadata": {
            "tags": []
          },
          "execution_count": 9
        }
      ]
    },
    {
      "cell_type": "code",
      "metadata": {
        "colab": {
          "base_uri": "https://localhost:8080/"
        },
        "id": "M7MzDK4Er-TM",
        "outputId": "57fce4fb-fd30-4f4e-faee-2a579b0738f7"
      },
      "source": [
        "\n",
        "print('Olá'*3)"
      ],
      "execution_count": null,
      "outputs": [
        {
          "output_type": "stream",
          "text": [
            "OláOláOlá\n"
          ],
          "name": "stdout"
        }
      ]
    },
    {
      "cell_type": "code",
      "metadata": {
        "colab": {
          "base_uri": "https://localhost:8080/"
        },
        "id": "QaZFFDOGtMBW",
        "outputId": "a963ec9e-9fa0-4dd0-fa11-740ae1e12839"
      },
      "source": [
        "nome = input('Qual é o seu nome? ')\n",
        "print('Prazer em te conhecer {:^20}'.format(nome))\n",
        "print('{:<20}'.format(nome))\n",
        "print('{:>20}'.format(nome))\n",
        "#OBS: utilizar o formato acima para formatar os prints: <>^ alinhar a esquerda, alinhar a direita e centralizar."
      ],
      "execution_count": null,
      "outputs": [
        {
          "output_type": "stream",
          "text": [
            "Qual é o seu nome? Welison\n",
            "Prazer em te conhecer       Welison       \n",
            "Welison             \n",
            "             Welison\n"
          ],
          "name": "stdout"
        }
      ]
    },
    {
      "cell_type": "code",
      "metadata": {
        "colab": {
          "base_uri": "https://localhost:8080/"
        },
        "id": "w_UPJ_nlve41",
        "outputId": "494aae70-5d07-4718-c219-a87cba9124f7"
      },
      "source": [
        "n1 = int(input('Um valor: '))\n",
        "n2 = int(input('Outro valor: '))\n",
        "s = n1 + n2\n",
        "m = n1 * n2\n",
        "d = n1 / n2\n",
        "di = n1 // n2\n",
        "e = n1 ** n2\n",
        "print('A soma é {}, a multiplicação é {}, a divisão é {:.3f}'.format(s, m, d), end=' ')\n",
        "print('A divisão inteira é {}, \\n a exponenciação é {}'.format(di, e))\n",
        "# OBS: .3f para dizar quantos números após a virgula / end='' para que os prints saiam na mesma linha.\n",
        "# OBS: \\-n para o print sair na outra linha"
      ],
      "execution_count": null,
      "outputs": [
        {
          "output_type": "stream",
          "text": [
            "Um valor: 3\n",
            "Outro valor: 3\n",
            "A soma é 6, a multiplicação é 9, a divisão é 1.000 A divisão inteira é 1, \n",
            " a exponenciação é 27\n"
          ],
          "name": "stdout"
        }
      ]
    },
    {
      "cell_type": "markdown",
      "metadata": {
        "id": "Vq6VbnPMzbfw"
      },
      "source": [
        "# Aula 008\n",
        "\n",
        "Utilizando Módulos"
      ]
    },
    {
      "cell_type": "code",
      "metadata": {
        "id": "DztMUSVT0faW",
        "colab": {
          "base_uri": "https://localhost:8080/"
        },
        "outputId": "38a31d8d-cf2a-4baa-f8d6-2aaa9ae7c2a7"
      },
      "source": [
        "from math import sqrt, floor\n",
        "num = int(input('Digite um Numero: '))\n",
        "raiz = math.sqrt(num)\n",
        "print('A raiz de {:.2f} é {:.2f}'.format(num, floor(raiz)))\n",
        "#OBS: Dois tipos de importação de bibliotecas 1- Usando o import + nome da biblioteca ou from 'nome da biblioteca' import 'função/método'\n",
        "#EX :import math; from math import sqrt\n",
        "#OBS: floor é arredondamento para baixo."
      ],
      "execution_count": 30,
      "outputs": [
        {
          "output_type": "stream",
          "text": [
            "Digite um Numero: 50\n",
            "A raiz de 50.00 é 7.00\n"
          ],
          "name": "stdout"
        }
      ]
    },
    {
      "cell_type": "code",
      "metadata": {
        "colab": {
          "base_uri": "https://localhost:8080/"
        },
        "id": "LFsF5adA6ToZ",
        "outputId": "65b6a9ef-e301-4ed7-b611-edb1d120c9af"
      },
      "source": [
        "import random\n",
        "num = random.randint(1,10)\n",
        "print(num)\n",
        "\n",
        "#OBS: O atalho Ctrl + spce mostra todas as bibliotecas já disponíveis para serem importadas, além disso, também pode mostrar os métodos.\n"
      ],
      "execution_count": 36,
      "outputs": [
        {
          "output_type": "stream",
          "text": [
            "5\n"
          ],
          "name": "stdout"
        }
      ]
    },
    {
      "cell_type": "markdown",
      "metadata": {
        "id": "uRhSJQ8dXIa5"
      },
      "source": [
        "## **Testes aleatórios para fixar comandos e outras coisas.**"
      ]
    },
    {
      "cell_type": "code",
      "metadata": {
        "id": "bNDf7GlcsscL"
      },
      "source": [
        ""
      ],
      "execution_count": null,
      "outputs": []
    }
  ]
}