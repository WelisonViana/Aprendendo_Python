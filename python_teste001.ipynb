{
  "nbformat": 4,
  "nbformat_minor": 0,
  "metadata": {
    "colab": {
      "name": "python_teste001",
      "provenance": [],
      "toc_visible": true,
      "authorship_tag": "ABX9TyMgm1cspAVJ7uGHuklIRpE0",
      "include_colab_link": true
    },
    "kernelspec": {
      "name": "python3",
      "display_name": "Python 3"
    },
    "language_info": {
      "name": "python"
    }
  },
  "cells": [
    {
      "cell_type": "markdown",
      "metadata": {
        "id": "view-in-github",
        "colab_type": "text"
      },
      "source": [
        "<a href=\"https://colab.research.google.com/github/WelisonViana/Aprendendo_Python/blob/main/python_teste001.ipynb\" target=\"_parent\"><img src=\"https://colab.research.google.com/assets/colab-badge.svg\" alt=\"Open In Colab\"/></a>"
      ]
    },
    {
      "cell_type": "markdown",
      "metadata": {
        "id": "sIN3COVlsw-8"
      },
      "source": [
        "**Aula** oo6\n"
      ]
    },
    {
      "cell_type": "code",
      "metadata": {
        "colab": {
          "base_uri": "https://localhost:8080/"
        },
        "id": "bNCc7E_anpiy",
        "outputId": "3dc8faad-f0cb-4420-e393-34a1a0a6fc6f"
      },
      "source": [
        "n1 = input('Digite um valor: ')\n",
        "print(type(n1))"
      ],
      "execution_count": null,
      "outputs": [
        {
          "output_type": "stream",
          "text": [
            "Digite um valor: 2\n",
            "<class 'str'>\n"
          ],
          "name": "stdout"
        }
      ]
    },
    {
      "cell_type": "code",
      "metadata": {
        "colab": {
          "base_uri": "https://localhost:8080/"
        },
        "id": "_HzRmOM1pLx8",
        "outputId": "00266047-608d-48ed-b20e-e5d76ab4f5ae"
      },
      "source": [
        "n1 = int(input('Digite o primeiro número: '))\n",
        "n2 = int(input('Digite o segundo número: '))\n",
        "s = n1 + n2\n",
        "#print('A soma entre',n1, 'e', n2,'vale', s)\n",
        "print('A soma entre {} e {} vale {}'.format(n1, n2, s))"
      ],
      "execution_count": null,
      "outputs": [
        {
          "output_type": "stream",
          "text": [
            "Digite o primeiro número: 3\n",
            "Digite o segundo número: 4\n",
            "A soma entre 3 e 4 vale 7\n"
          ],
          "name": "stdout"
        }
      ]
    },
    {
      "cell_type": "code",
      "metadata": {
        "colab": {
          "base_uri": "https://localhost:8080/"
        },
        "id": "Z9hvjspAs_9G",
        "outputId": "e09fb1ad-5583-4155-a993-f85fbc94bcb2"
      },
      "source": [
        "n = float(input('Digite um valor: '))\n",
        "print('O valor digitado é: {}'.format(n))\n",
        "print('{} é um valor do tipo '.format(n), type(n))"
      ],
      "execution_count": null,
      "outputs": [
        {
          "output_type": "stream",
          "text": [
            "Digite um valor: 4\n",
            "O valor digitado é: 4.0\n",
            "4.0 é um valor do tipo  <class 'float'>\n"
          ],
          "name": "stdout"
        }
      ]
    },
    {
      "cell_type": "code",
      "metadata": {
        "colab": {
          "base_uri": "https://localhost:8080/"
        },
        "id": "1Ui9I36vvVDG",
        "outputId": "a26e73be-ca2a-4035-e6f1-fbe27f9a0071"
      },
      "source": [
        "f = input('Digite algo: ')\n",
        "print(f.isalnum())\n",
        "# is.alpha\n",
        "# is.num , is.alnum, is.upper, is.lower"
      ],
      "execution_count": null,
      "outputs": [
        {
          "output_type": "stream",
          "text": [
            "Digite algo: as3\n",
            "True\n"
          ],
          "name": "stdout"
        }
      ]
    },
    {
      "cell_type": "markdown",
      "metadata": {
        "id": "FBdjAwpvsiua"
      },
      "source": [
        "Aula 006\n",
        "\n"
      ]
    },
    {
      "cell_type": "code",
      "metadata": {
        "id": "bNDf7GlcsscL"
      },
      "source": [
        ""
      ],
      "execution_count": null,
      "outputs": []
    }
  ]
}